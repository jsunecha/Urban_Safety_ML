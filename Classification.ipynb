{
 "cells": [
  {
   "cell_type": "code",
   "execution_count": 56,
   "metadata": {},
   "outputs": [],
   "source": [
    "import pandas as pd\n",
    "import numpy as np\n",
    "\n",
    "from sklearn.ensemble import RandomForestClassifier\n",
    "from sklearn.model_selection import train_test_split\n",
    "from sklearn.metrics import classification_report\n",
    "\n",
    "import seaborn as sns\n",
    "import matplotlib.pyplot as plt\n",
    "import plotly.express as px\n",
    "\n",
    "from sklearn.preprocessing import OneHotEncoder\n",
    "from sklearn.preprocessing import LabelEncoder\n",
    "from sklearn.preprocessing import StandardScaler\n",
    "from sklearn.preprocessing import MaxAbsScaler\n",
    "from imblearn.over_sampling import SMOTE\n",
    "from imblearn.under_sampling import RandomUnderSampler\n",
    "from sklearn.metrics import auc, multilabel_confusion_matrix,ConfusionMatrixDisplay,confusion_matrix,roc_curve\n",
    "from pandas.tseries.holiday import USFederalHolidayCalendar\n",
    "\n",
    "from Model import Model\n",
    "\n",
    "import warnings\n",
    "warnings.filterwarnings('ignore')\n",
    "warnings.simplefilter(action='ignore', category=FutureWarning)"
   ]
  },
  {
   "cell_type": "code",
   "execution_count": 57,
   "metadata": {},
   "outputs": [],
   "source": [
    "#load csv into dataframes\n",
    "crime_data = \"San_Francisco.csv\"\n",
    "df = pd.read_csv(crime_data)"
   ]
  },
  {
   "cell_type": "code",
   "execution_count": 58,
   "metadata": {},
   "outputs": [],
   "source": [
    "# Preprocess data (you'll need to adjust this to match your actual data)\n",
    "df['Date_Time'] = pd.to_datetime(df['Date'] + ' ' + df['Time'])\n",
    "df['Year'] = df['Date_Time'].dt.year\n",
    "df['Month'] = df['Date_Time'].dt.month\n",
    "df['Day'] = df['Date_Time'].dt.day\n",
    "df['Time_minutes'] = df['Date_Time'].dt.hour * 60 + df['Date_Time'].dt.minute\n",
    "\n",
    "calendar = USFederalHolidayCalendar()\n",
    "holidays = calendar.holidays(start=df['Date'].min(), end=df['Date'].max())\n",
    "df['IsHoliday'] = df['Date'].isin(holidays)"
   ]
  },
  {
   "attachments": {},
   "cell_type": "markdown",
   "metadata": {},
   "source": [
    "Take a look at the data"
   ]
  },
  {
   "cell_type": "code",
   "execution_count": 59,
   "metadata": {},
   "outputs": [
    {
     "data": {
      "text/html": [
       "<div>\n",
       "<style scoped>\n",
       "    .dataframe tbody tr th:only-of-type {\n",
       "        vertical-align: middle;\n",
       "    }\n",
       "\n",
       "    .dataframe tbody tr th {\n",
       "        vertical-align: top;\n",
       "    }\n",
       "\n",
       "    .dataframe thead th {\n",
       "        text-align: right;\n",
       "    }\n",
       "</style>\n",
       "<table border=\"1\" class=\"dataframe\">\n",
       "  <thead>\n",
       "    <tr style=\"text-align: right;\">\n",
       "      <th></th>\n",
       "      <th>Unnamed: 0</th>\n",
       "      <th>Date</th>\n",
       "      <th>Time</th>\n",
       "      <th>Day_of_Week</th>\n",
       "      <th>Part_of_Day</th>\n",
       "      <th>Category</th>\n",
       "      <th>Latitude</th>\n",
       "      <th>Longitude</th>\n",
       "      <th>Date_Time</th>\n",
       "      <th>Year</th>\n",
       "      <th>Month</th>\n",
       "      <th>Day</th>\n",
       "      <th>Time_minutes</th>\n",
       "      <th>IsHoliday</th>\n",
       "    </tr>\n",
       "  </thead>\n",
       "  <tbody>\n",
       "    <tr>\n",
       "      <th>0</th>\n",
       "      <td>0</td>\n",
       "      <td>2004-11-22</td>\n",
       "      <td>17:50:00</td>\n",
       "      <td>Monday</td>\n",
       "      <td>evening</td>\n",
       "      <td>ROBBERY</td>\n",
       "      <td>37.708311</td>\n",
       "      <td>-122.420084</td>\n",
       "      <td>2004-11-22 17:50:00</td>\n",
       "      <td>2004</td>\n",
       "      <td>11</td>\n",
       "      <td>22</td>\n",
       "      <td>1070</td>\n",
       "      <td>False</td>\n",
       "    </tr>\n",
       "    <tr>\n",
       "      <th>1</th>\n",
       "      <td>1</td>\n",
       "      <td>2010-11-21</td>\n",
       "      <td>17:00:00</td>\n",
       "      <td>Sunday</td>\n",
       "      <td>evening</td>\n",
       "      <td>ASSAULT</td>\n",
       "      <td>37.770913</td>\n",
       "      <td>-122.410541</td>\n",
       "      <td>2010-11-21 17:00:00</td>\n",
       "      <td>2010</td>\n",
       "      <td>11</td>\n",
       "      <td>21</td>\n",
       "      <td>1020</td>\n",
       "      <td>False</td>\n",
       "    </tr>\n",
       "    <tr>\n",
       "      <th>2</th>\n",
       "      <td>2</td>\n",
       "      <td>2013-04-02</td>\n",
       "      <td>15:50:00</td>\n",
       "      <td>Tuesday</td>\n",
       "      <td>afternoon</td>\n",
       "      <td>ASSAULT</td>\n",
       "      <td>37.745158</td>\n",
       "      <td>-122.470366</td>\n",
       "      <td>2013-04-02 15:50:00</td>\n",
       "      <td>2013</td>\n",
       "      <td>4</td>\n",
       "      <td>2</td>\n",
       "      <td>950</td>\n",
       "      <td>False</td>\n",
       "    </tr>\n",
       "    <tr>\n",
       "      <th>3</th>\n",
       "      <td>3</td>\n",
       "      <td>2017-08-06</td>\n",
       "      <td>18:15:00</td>\n",
       "      <td>Sunday</td>\n",
       "      <td>evening</td>\n",
       "      <td>ASSAULT</td>\n",
       "      <td>37.775421</td>\n",
       "      <td>-122.403405</td>\n",
       "      <td>2017-08-06 18:15:00</td>\n",
       "      <td>2017</td>\n",
       "      <td>8</td>\n",
       "      <td>6</td>\n",
       "      <td>1095</td>\n",
       "      <td>False</td>\n",
       "    </tr>\n",
       "    <tr>\n",
       "      <th>4</th>\n",
       "      <td>4</td>\n",
       "      <td>2016-03-03</td>\n",
       "      <td>19:30:00</td>\n",
       "      <td>Thursday</td>\n",
       "      <td>evening</td>\n",
       "      <td>VEHICLE THEFT</td>\n",
       "      <td>37.707968</td>\n",
       "      <td>-122.463545</td>\n",
       "      <td>2016-03-03 19:30:00</td>\n",
       "      <td>2016</td>\n",
       "      <td>3</td>\n",
       "      <td>3</td>\n",
       "      <td>1170</td>\n",
       "      <td>False</td>\n",
       "    </tr>\n",
       "    <tr>\n",
       "      <th>...</th>\n",
       "      <td>...</td>\n",
       "      <td>...</td>\n",
       "      <td>...</td>\n",
       "      <td>...</td>\n",
       "      <td>...</td>\n",
       "      <td>...</td>\n",
       "      <td>...</td>\n",
       "      <td>...</td>\n",
       "      <td>...</td>\n",
       "      <td>...</td>\n",
       "      <td>...</td>\n",
       "      <td>...</td>\n",
       "      <td>...</td>\n",
       "      <td>...</td>\n",
       "    </tr>\n",
       "    <tr>\n",
       "      <th>787077</th>\n",
       "      <td>787077</td>\n",
       "      <td>2023-03-06</td>\n",
       "      <td>16:41:00</td>\n",
       "      <td>Monday</td>\n",
       "      <td>afternoon</td>\n",
       "      <td>LARCENY THEFT</td>\n",
       "      <td>37.805497</td>\n",
       "      <td>-122.422007</td>\n",
       "      <td>2023-03-06 16:41:00</td>\n",
       "      <td>2023</td>\n",
       "      <td>3</td>\n",
       "      <td>6</td>\n",
       "      <td>1001</td>\n",
       "      <td>False</td>\n",
       "    </tr>\n",
       "    <tr>\n",
       "      <th>787078</th>\n",
       "      <td>787078</td>\n",
       "      <td>2023-03-22</td>\n",
       "      <td>13:30:00</td>\n",
       "      <td>Wednesday</td>\n",
       "      <td>afternoon</td>\n",
       "      <td>ROBBERY</td>\n",
       "      <td>37.753004</td>\n",
       "      <td>-122.406336</td>\n",
       "      <td>2023-03-22 13:30:00</td>\n",
       "      <td>2023</td>\n",
       "      <td>3</td>\n",
       "      <td>22</td>\n",
       "      <td>810</td>\n",
       "      <td>False</td>\n",
       "    </tr>\n",
       "    <tr>\n",
       "      <th>787079</th>\n",
       "      <td>787079</td>\n",
       "      <td>2023-03-22</td>\n",
       "      <td>00:13:00</td>\n",
       "      <td>Wednesday</td>\n",
       "      <td>night</td>\n",
       "      <td>LARCENY THEFT</td>\n",
       "      <td>37.788995</td>\n",
       "      <td>-122.440624</td>\n",
       "      <td>2023-03-22 00:13:00</td>\n",
       "      <td>2023</td>\n",
       "      <td>3</td>\n",
       "      <td>22</td>\n",
       "      <td>13</td>\n",
       "      <td>False</td>\n",
       "    </tr>\n",
       "    <tr>\n",
       "      <th>787080</th>\n",
       "      <td>787080</td>\n",
       "      <td>2023-03-22</td>\n",
       "      <td>15:28:00</td>\n",
       "      <td>Wednesday</td>\n",
       "      <td>afternoon</td>\n",
       "      <td>LARCENY THEFT</td>\n",
       "      <td>37.790565</td>\n",
       "      <td>-122.405574</td>\n",
       "      <td>2023-03-22 15:28:00</td>\n",
       "      <td>2023</td>\n",
       "      <td>3</td>\n",
       "      <td>22</td>\n",
       "      <td>928</td>\n",
       "      <td>False</td>\n",
       "    </tr>\n",
       "    <tr>\n",
       "      <th>787081</th>\n",
       "      <td>787081</td>\n",
       "      <td>2023-03-21</td>\n",
       "      <td>17:42:00</td>\n",
       "      <td>Tuesday</td>\n",
       "      <td>evening</td>\n",
       "      <td>MOTOR VEHICLE THEFT</td>\n",
       "      <td>37.721277</td>\n",
       "      <td>-122.402056</td>\n",
       "      <td>2023-03-21 17:42:00</td>\n",
       "      <td>2023</td>\n",
       "      <td>3</td>\n",
       "      <td>21</td>\n",
       "      <td>1062</td>\n",
       "      <td>False</td>\n",
       "    </tr>\n",
       "  </tbody>\n",
       "</table>\n",
       "<p>787082 rows × 14 columns</p>\n",
       "</div>"
      ],
      "text/plain": [
       "        Unnamed: 0        Date      Time Day_of_Week Part_of_Day  \\\n",
       "0                0  2004-11-22  17:50:00      Monday     evening   \n",
       "1                1  2010-11-21  17:00:00      Sunday     evening   \n",
       "2                2  2013-04-02  15:50:00     Tuesday   afternoon   \n",
       "3                3  2017-08-06  18:15:00      Sunday     evening   \n",
       "4                4  2016-03-03  19:30:00    Thursday     evening   \n",
       "...            ...         ...       ...         ...         ...   \n",
       "787077      787077  2023-03-06  16:41:00      Monday   afternoon   \n",
       "787078      787078  2023-03-22  13:30:00   Wednesday   afternoon   \n",
       "787079      787079  2023-03-22  00:13:00   Wednesday       night   \n",
       "787080      787080  2023-03-22  15:28:00   Wednesday   afternoon   \n",
       "787081      787081  2023-03-21  17:42:00     Tuesday     evening   \n",
       "\n",
       "                   Category   Latitude   Longitude           Date_Time  Year  \\\n",
       "0                   ROBBERY  37.708311 -122.420084 2004-11-22 17:50:00  2004   \n",
       "1                   ASSAULT  37.770913 -122.410541 2010-11-21 17:00:00  2010   \n",
       "2                   ASSAULT  37.745158 -122.470366 2013-04-02 15:50:00  2013   \n",
       "3                   ASSAULT  37.775421 -122.403405 2017-08-06 18:15:00  2017   \n",
       "4             VEHICLE THEFT  37.707968 -122.463545 2016-03-03 19:30:00  2016   \n",
       "...                     ...        ...         ...                 ...   ...   \n",
       "787077        LARCENY THEFT  37.805497 -122.422007 2023-03-06 16:41:00  2023   \n",
       "787078              ROBBERY  37.753004 -122.406336 2023-03-22 13:30:00  2023   \n",
       "787079        LARCENY THEFT  37.788995 -122.440624 2023-03-22 00:13:00  2023   \n",
       "787080        LARCENY THEFT  37.790565 -122.405574 2023-03-22 15:28:00  2023   \n",
       "787081  MOTOR VEHICLE THEFT  37.721277 -122.402056 2023-03-21 17:42:00  2023   \n",
       "\n",
       "        Month  Day  Time_minutes  IsHoliday  \n",
       "0          11   22          1070      False  \n",
       "1          11   21          1020      False  \n",
       "2           4    2           950      False  \n",
       "3           8    6          1095      False  \n",
       "4           3    3          1170      False  \n",
       "...       ...  ...           ...        ...  \n",
       "787077      3    6          1001      False  \n",
       "787078      3   22           810      False  \n",
       "787079      3   22            13      False  \n",
       "787080      3   22           928      False  \n",
       "787081      3   21          1062      False  \n",
       "\n",
       "[787082 rows x 14 columns]"
      ]
     },
     "execution_count": 59,
     "metadata": {},
     "output_type": "execute_result"
    }
   ],
   "source": [
    "df"
   ]
  },
  {
   "cell_type": "code",
   "execution_count": 60,
   "metadata": {},
   "outputs": [
    {
     "data": {
      "text/plain": [
       "ASSAULT                210410\n",
       "LARCENY THEFT          198155\n",
       "BURGLARY               130802\n",
       "VEHICLE THEFT          126213\n",
       "ROBBERY                 70305\n",
       "MOTOR VEHICLE THEFT     36222\n",
       "STOLEN PROPERTY         14975\n",
       "Name: Category, dtype: int64"
      ]
     },
     "execution_count": 60,
     "metadata": {},
     "output_type": "execute_result"
    }
   ],
   "source": [
    "df['Category'].value_counts()"
   ]
  },
  {
   "cell_type": "code",
   "execution_count": 61,
   "metadata": {},
   "outputs": [
    {
     "data": {
      "text/plain": [
       "False    787082\n",
       "Name: IsHoliday, dtype: int64"
      ]
     },
     "execution_count": 61,
     "metadata": {},
     "output_type": "execute_result"
    }
   ],
   "source": [
    "df['IsHoliday'].value_counts()"
   ]
  },
  {
   "cell_type": "code",
   "execution_count": 62,
   "metadata": {},
   "outputs": [
    {
     "data": {
      "text/plain": [
       "Index(['Unnamed: 0', 'Date', 'Time', 'Day_of_Week', 'Part_of_Day', 'Category',\n",
       "       'Latitude', 'Longitude', 'Date_Time', 'Year', 'Month', 'Day',\n",
       "       'Time_minutes', 'IsHoliday'],\n",
       "      dtype='object')"
      ]
     },
     "execution_count": 62,
     "metadata": {},
     "output_type": "execute_result"
    }
   ],
   "source": [
    "# get column names\n",
    "df.columns"
   ]
  },
  {
   "cell_type": "code",
   "execution_count": 63,
   "metadata": {},
   "outputs": [],
   "source": [
    "# Convert the Date and Time columns to datetime objects\n",
    "df['DateTime'] = pd.to_datetime(df['Date'] + ' ' + df['Time'])\n",
    "\n",
    "# Extract the hour of the day from the DateTime column\n",
    "df['Hour'] = df['DateTime'].dt.hour"
   ]
  },
  {
   "cell_type": "code",
   "execution_count": 64,
   "metadata": {},
   "outputs": [
    {
     "data": {
      "text/plain": [
       "[Text(0, 0, 'ASSAULT'),\n",
       " Text(1, 0, 'LARCENY THEFT'),\n",
       " Text(2, 0, 'BURGLARY'),\n",
       " Text(3, 0, 'VEHICLE THEFT'),\n",
       " Text(4, 0, 'ROBBERY'),\n",
       " Text(5, 0, 'MOTOR VEHICLE THEFT'),\n",
       " Text(6, 0, 'STOLEN PROPERTY')]"
      ]
     },
     "execution_count": 64,
     "metadata": {},
     "output_type": "execute_result"
    },
    {
     "data": {
      "image/png": "[encoded data removed]",
      "text/plain": [
       "<Figure size 1500x500 with 1 Axes>"
      ]
     },
     "metadata": {},
     "output_type": "display_data"
    }
   ],
   "source": [
    "# print the value counts of the categories\n",
    "plt.figure(figsize=(15,5))\n",
    "ax = sns.countplot(x = df['Category'], orient='v', order = df['Category'].value_counts().index)\n",
    "ax.set_xticklabels(ax.get_xticklabels(),rotation = 90)"
   ]
  },
  {
   "cell_type": "code",
   "execution_count": 66,
   "metadata": {},
   "outputs": [],
   "source": [
    "one_hot_encoder = OneHotEncoder(sparse=False)\n",
    "one_hot_encoded = one_hot_encoder.fit_transform(df[['Day_of_Week', 'Part_of_Day']])\n",
    "one_hot_columns = one_hot_encoder.get_feature_names_out(['Day_of_Week', 'Part_of_Day'])\n",
    "\n",
    "scaler = StandardScaler()\n",
    "scaled_columns = ['Year', 'Month', 'Day', 'Time_minutes', 'IsHoliday', 'Latitude', 'Longitude']\n",
    "scaled_values = scaler.fit_transform(df[scaled_columns])\n",
    "\n",
    "X = np.hstack((scaled_values, one_hot_encoded))\n",
    "y = df['Category'].values\n",
    "\n",
    "label_encoder = LabelEncoder()\n",
    "y = label_encoder.fit_transform(y)"
   ]
  },
  {
   "cell_type": "code",
   "execution_count": 67,
   "metadata": {},
   "outputs": [],
   "source": [
    "# # Select the features for the model\n",
    "# X = df[['Latitude', 'Longitude', 'Hour']]\n",
    "\n",
    "# # Use the original crime category labels as the target variable\n",
    "# y = df['Category']\n",
    "\n",
    "# Split the data into training and testing sets\n",
    "X_train, X_test, y_train, y_test = train_test_split(X, y, test_size=0.2, random_state=42)"
   ]
  },
  {
   "cell_type": "code",
   "execution_count": 68,
   "metadata": {},
   "outputs": [],
   "source": [
    "# Initialize the Random Forest Classifier\n",
    "rfc = RandomForestClassifier(n_estimators=100, random_state=42)"
   ]
  },
  {
   "cell_type": "code",
   "execution_count": 70,
   "metadata": {},
   "outputs": [
    {
     "data": {
      "text/plain": [
       "RandomForestClassifier(random_state=42)"
      ]
     },
     "execution_count": 70,
     "metadata": {},
     "output_type": "execute_result"
    }
   ],
   "source": [
    "# Fit the model to the training data\n",
    "rfc.fit(X_train, y_train)"
   ]
  },
  {
   "cell_type": "code",
   "execution_count": null,
   "metadata": {},
   "outputs": [],
   "source": [
    "# # Get the predicted probabilities for each class\n",
    "# y_prob = rfc.predict_proba(X_test)\n",
    "\n",
    "# # Calculate the predicted class using the probabilities\n",
    "# y_pred = np.argmax(y_prob, axis=1)"
   ]
  },
  {
   "cell_type": "code",
   "execution_count": null,
   "metadata": {},
   "outputs": [],
   "source": [
    "# y_pred_str = y_pred.astype(str)"
   ]
  },
  {
   "cell_type": "code",
   "execution_count": 71,
   "metadata": {},
   "outputs": [],
   "source": [
    "y_pred = rfc.predict(X_test)"
   ]
  },
  {
   "cell_type": "code",
   "execution_count": 73,
   "metadata": {},
   "outputs": [
    {
     "name": "stdout",
     "output_type": "stream",
     "text": [
      "(157417,)\n",
      "(157417,)\n"
     ]
    }
   ],
   "source": [
    "print(y_test.shape)\n",
    "print(y_pred.shape)"
   ]
  },
  {
   "cell_type": "code",
   "execution_count": 72,
   "metadata": {},
   "outputs": [
    {
     "name": "stdout",
     "output_type": "stream",
     "text": [
      "              precision    recall  f1-score   support\n",
      "\n",
      "           0       0.54      0.63      0.58     42068\n",
      "           1       0.47      0.30      0.37     26086\n",
      "           2       0.66      0.92      0.77     39801\n",
      "           3       0.36      0.11      0.17      7303\n",
      "           4       0.30      0.10      0.15     14017\n",
      "           5       0.10      0.04      0.06      3052\n",
      "           6       0.57      0.63      0.60     25090\n",
      "\n",
      "    accuracy                           0.57    157417\n",
      "   macro avg       0.43      0.39      0.38    157417\n",
      "weighted avg       0.52      0.57      0.53    157417\n",
      "\n"
     ]
    }
   ],
   "source": [
    "# Print the classification report\n",
    "print(classification_report(y_test, y_pred))"
   ]
  }
 ],
 "metadata": {
  "kernelspec": {
   "display_name": "base",
   "language": "python",
   "name": "python3"
  },
  "language_info": {
   "codemirror_mode": {
    "name": "ipython",
    "version": 3
   },
   "file_extension": ".py",
   "mimetype": "text/x-python",
   "name": "python",
   "nbconvert_exporter": "python",
   "pygments_lexer": "ipython3",
   "version": "3.9.13"
  },
  "orig_nbformat": 4
 },
 "nbformat": 4,
 "nbformat_minor": 2
}
